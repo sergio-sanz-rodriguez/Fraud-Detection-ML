{
 "cells": [
  {
   "cell_type": "markdown",
   "metadata": {
    "tags": []
   },
   "source": [
    "# Fraud Detection in Electricity and Gas Consumption Using XGBoost"
   ]
  },
  {
   "cell_type": "markdown",
   "metadata": {
    "tags": []
   },
   "source": [
    "# Table of Contents\n",
    "1. [Authors](#authors)\n",
    "2. [GitHub Repository](#github-repository)\n",
    "3. [Introduction](#introduction)\n",
    "4. [Download and Extract Files](#download-and-extract-files)\n",
    "5. [Import Libraries](#import-libraries)\n",
    "6. [Evaluation Functions](#evaluation-functions)\n",
    "7. [Data Preparation](#data-preparation)\n",
    "8. [Feature Engineering](#feature-engineering)\n",
    "9. [Machine-Learning Modeling](#machine-learning-modeling)\n",
    "10. [Model Evaluation](#model-evaluation)\n",
    "11. [Conclusions](#conclusions)"
   ]
  },
  {
   "cell_type": "markdown",
   "metadata": {},
   "source": [
    "# Authors\n",
    "<a id='authors'><a>\n",
    "    \n",
    "Mila Miletic, Jenny Louse, and Sergio Sanz."
   ]
  },
  {
   "cell_type": "markdown",
   "metadata": {},
   "source": [
    "# GitHub Repository\n",
    "<a id='github-repository'><a>\n",
    "\n",
    "https://github.com/sergio-sanz-rodriguez/Fraud-Detection-ML"
   ]
  },
  {
   "cell_type": "markdown",
   "metadata": {
    "id": "RqLQ-hbyb5jH"
   },
   "source": [
    "# Introduction\n",
    "<a id='introduction'><a>\n",
    "    \n",
    "The Tunisian Company of Electricity and Gas (STEG) is a public and a non-administrative company, it is responsible for delivering electricity and gas across Tunisia. The company suffered tremendous losses in the order of 200 million Tunisian Dinars due to fraudulent manipulations of meters by consumers.\n",
    "\n",
    "Using the client’s billing history, the aim of the challenge is to detect and recognize clients involved in fraudulent activities. The solution will enhance the company’s revenues and reduce the losses caused by such fraudulent activities.\n",
    "\n",
    "In this notebook the potential of the **XBoost** classifier is evaluated for the detection of fraudulent cases.\n",
    "\n",
    "For more information about this challenge, click here: https://zindi.africa/competitions/fraud-detection-in-electricity-and-gas-consumption-challenge"
   ]
  },
  {
   "cell_type": "markdown",
   "metadata": {
    "id": "e6LfbE6PJbmp"
   },
   "source": [
    "# Download and Extract Files\n",
    "<a id='download-and-extract-files'><a>"
   ]
  },
  {
   "cell_type": "code",
   "execution_count": 1,
   "metadata": {
    "id": "IYR_e0SMJnpa",
    "tags": []
   },
   "outputs": [],
   "source": [
    "DATA_DIR = '/data'\n",
    "TRAIN_DIR = f'{DATA_DIR}/train'\n",
    "#TEST_DIR = f'{DATA_DIR}/test'\n",
    "#OUTPUT_DIR = f'{DATA_DIR}/output'"
   ]
  },
  {
   "cell_type": "code",
   "execution_count": 2,
   "metadata": {
    "id": "GblUChAfGsaY",
    "tags": []
   },
   "outputs": [],
   "source": [
    "#import os.path\n",
    "#from os import path\n",
    "#\n",
    "#for pth in [TRAIN_DIR, TEST_DIR, OUTPUT_DIR]:\n",
    "#  if path.exists(pth) == False:\n",
    "#    os.mkdir(pth)"
   ]
  },
  {
   "cell_type": "code",
   "execution_count": 3,
   "metadata": {
    "id": "4GEpOaBQGvlB",
    "tags": []
   },
   "outputs": [],
   "source": [
    "#only run this cell once, at the start\n",
    "#import requests, os\n",
    "#\n",
    "#train_zip = \"train.zip\"\n",
    "#test_zip = \"test.zip\"\n",
    "#sample_sub = \"SampleSubmission.csv\""
   ]
  },
  {
   "cell_type": "code",
   "execution_count": 4,
   "metadata": {
    "colab": {
     "base_uri": "https://localhost:8080/"
    },
    "id": "fcqJHBiuIVp8",
    "outputId": "538c087d-1c8e-41df-9457-2a2a315b181a",
    "tags": []
   },
   "outputs": [],
   "source": [
    "#!unzip \"/content/train/train.zip\" -d \"/content/train/\"\n",
    "#!unzip \"/content/test/test.zip\" -d \"/content/test/\""
   ]
  },
  {
   "cell_type": "markdown",
   "metadata": {
    "id": "GKfpS4UVJ4Wj"
   },
   "source": [
    "# Import Libraries\n",
    "<a id='import-libraries'><a>"
   ]
  },
  {
   "cell_type": "code",
   "execution_count": 5,
   "metadata": {
    "id": "OJMD_I3EJWP4",
    "tags": []
   },
   "outputs": [],
   "source": [
    "import pandas as pd\n",
    "import matplotlib.pyplot as plt\n",
    "import numpy as np\n",
    "import itertools\n",
    "#import lightgbm\n",
    "#from lightgbm import LGBMClassifier\n",
    "\n",
    "import warnings\n",
    "warnings.simplefilter('ignore')\n",
    "\n",
    "# Modelling\n",
    "from sklearn.preprocessing import StandardScaler, OneHotEncoder, MinMaxScaler, RobustScaler\n",
    "from sklearn.model_selection import train_test_split\n",
    "from sklearn import metrics\n",
    "from sklearn.metrics import accuracy_score, recall_score, precision_score, f1_score, roc_auc_score, fbeta_score, make_scorer, confusion_matrix, classification_report, roc_curve\n",
    "from sklearn.datasets import make_classification\n",
    "from sklearn.linear_model import LogisticRegression, SGDClassifier\n",
    "from sklearn.model_selection import GridSearchCV, RandomizedSearchCV, cross_val_predict\n",
    "from sklearn.neighbors import KNeighborsClassifier\n",
    "from scipy.stats import loguniform\n",
    "from sklearn.pipeline import Pipeline\n",
    "from imblearn.pipeline import Pipeline as ImbPipeline\n",
    "from sklearn.compose import ColumnTransformer\n",
    "\n",
    "from sklearn.impute import SimpleImputer, KNNImputer\n",
    "from numpy import loadtxt\n",
    "from xgboost import XGBClassifier\n",
    "from sklearn.ensemble import RandomForestClassifier\n",
    "from sklearn.tree import DecisionTreeClassifier\n",
    "from imblearn.over_sampling import RandomOverSampler\n",
    "from imblearn.under_sampling import RandomUnderSampler\n",
    "from lightgbm import LGBMClassifier\n",
    "\n",
    "import math\n",
    "\n",
    "# Plot\n",
    "import matplotlib.pyplot as plt\n",
    "import seaborn as sns\n",
    "#import plotly.express as px\n",
    "from matplotlib.ticker import PercentFormatter\n",
    "plt.rcParams.update({ \"figure.figsize\" : (8, 5),\"axes.facecolor\" : \"white\", \"axes.edgecolor\":  \"black\"})\n",
    "plt.rcParams[\"figure.facecolor\"]= \"w\"\n",
    "pd.plotting.register_matplotlib_converters()\n",
    "pd.set_option('display.float_format', lambda x: '%.3f' % x)\n",
    "pd.options.display.float_format = \"{:,.2f}\".format\n",
    "import warnings\n",
    "warnings.filterwarnings('ignore')\n",
    "\n",
    "RSEED = 42"
   ]
  },
  {
   "cell_type": "markdown",
   "metadata": {
    "tags": []
   },
   "source": [
    "# Evaluation Functions\n",
    "<a id='evaluation-functions'><a>"
   ]
  },
  {
   "cell_type": "code",
   "execution_count": 6,
   "metadata": {
    "tags": []
   },
   "outputs": [],
   "source": [
    "def predict_and_print_scores(model,\n",
    "                             X_train,\n",
    "                             y_train,\n",
    "                             X_test,\n",
    "                             y_test,                             \n",
    "                             training=True,\n",
    "                             test=True,\n",
    "                             accuracy=True,\n",
    "                             recall=True,\n",
    "                             precision=True,\n",
    "                             fbeta=[True, 1.0],\n",
    "                             roc_auc=True,\n",
    "                             matrix=True,\n",
    "                             figsize=(3,2),\n",
    "                             cmap='YlGn'):\n",
    "    \n",
    "    '''\n",
    "    Given an already trained model, this function predicts and print some performance scores training and/or testing data.\n",
    "    The supported metrics are: accuracy, recall, precision, fbeta_score (and f1_score if beta = 1.0), roc_auc.\n",
    "    If the input parameter \"matrix\" is set to True, the function plot the confusion matrix with a color map given in \"cmap\".\n",
    "\n",
    "    model             Trained model\n",
    "    X_train           Training data with features\n",
    "    y_train           Training data with labels or targets\n",
    "    X_test            Testing data with features\n",
    "    y_test            Testing data with labels or targets                             \n",
    "    training=True     True: print scores on the training set\n",
    "    test=True         True: print scores on the testing set\n",
    "    accuracy=True     True: print accuracy_score()\n",
    "    recall=True       True: print recall_score()\n",
    "    precision=True    True: print precision_score()\n",
    "    fbeta=[True, 1.0] [True, beta]: print fbeta_score. If beta = 1.0: f1_score\n",
    "    roc_auc=True      True: print roc_auc_score()\n",
    "    matrix=True       True: plot confusion matrix\n",
    "    figsize=(3,2)     Figure size for the confusion matrix\n",
    "    cmap='YlGn')      Color map for the confusion matrix\n",
    "    \n",
    "    Possible color maps: 'Greys', 'Purples', 'Blues', 'Greens', 'Oranges', 'Reds',\n",
    "                        'YlOrBr', 'YlOrRd', 'OrRd', 'PuRd', 'RdPu', 'BuPu',\n",
    "                        'GnBu', 'PuBu', 'YlGnBu', 'PuBuGn', 'BuGn', 'YlGn'\n",
    "    \n",
    "    Returns: fig, ax: the figure objects of the confusion matrix (if enabled)\n",
    "    '''\n",
    "\n",
    "    # Prediction\n",
    "    y_pred_train = model.predict(X_train)\n",
    "    y_pred_test = model.predict(X_test)\n",
    "            \n",
    "    # Scores\n",
    "    if accuracy:\n",
    "        if training:\n",
    "            print(\"Accuracy on training set:\", round(accuracy_score(y_train, y_pred_train), 2))\n",
    "        if test:\n",
    "            print(\"Accuracy on test set:\", round(accuracy_score(y_test, y_pred_test), 2))\n",
    "        print(\"--------\"*5)\n",
    "    \n",
    "    if recall:        \n",
    "        if training:\n",
    "            print(\"Recall on training set:\", round(recall_score(y_train, y_pred_train), 2))\n",
    "        if test:\n",
    "            print(\"Recall on test set:\", round(recall_score(y_test, y_pred_test), 2))\n",
    "        print(\"--------\"*5)\n",
    "    \n",
    "    if precision:\n",
    "        if training:\n",
    "            print(\"Precision on training set:\", round(precision_score(y_train, y_pred_train), 2))\n",
    "        if test:\n",
    "            print(\"Precision on test set:\", round(precision_score(y_test, y_pred_test), 2))\n",
    "        print(\"--------\"*5)\n",
    "\n",
    "    if fbeta[0]:\n",
    "        if training:\n",
    "            print(\"fbeta_score on training set:\", round(fbeta_score(y_train, y_pred_train, beta=fbeta[1]), 2))\n",
    "        if test:\n",
    "            print(\"fbeta_score on test set:\", round(fbeta_score(y_test, y_pred_test, beta=fbeta[1]), 2))\n",
    "        print(\"--------\"*5)\n",
    "\n",
    "    if roc_auc:\n",
    "        y_pred_train_p = model.predict_proba(X_train)[:,1]\n",
    "        y_pred_test_p = model.predict_proba(X_test)[:,1]\n",
    "        if training:\n",
    "            print('roc_auc_score on training set: ', round(roc_auc_score(y_train, y_pred_train_p), 2))\n",
    "        if test:\n",
    "            print('roc_auc_score on test set: ', round(roc_auc_score(y_test, y_pred_test_p), 2))\n",
    "        print(\"--------\"*5)\n",
    "    \n",
    "    # Plot confusion matrix \n",
    "    if matrix:\n",
    "        fig = plt.figure(figsize=figsize)\n",
    "        ax = fig.add_subplot()\n",
    "        sns.heatmap(confusion_matrix(y_test, y_pred_test), annot=True, cmap=cmap);\n",
    "        plt.title('Test Set')\n",
    "        plt.ylabel('True label')\n",
    "        plt.xlabel('Predicted label')\n",
    "                 \n",
    "        return fig, ax\n",
    "\n",
    "def find_roc_threshold_tpr(model, X, y, value_target):\n",
    "    \n",
    "    \"\"\"\n",
    "    This function calculates the threshold and false positive rate corresponding to a true positive rate of value_target (from 0 to 1).\n",
    "    \n",
    "    model                 # Trained model\n",
    "    X                     # Feature dataset\n",
    "    y                     # Target dataset\n",
    "    value_target          # True positive rate value\n",
    "    \n",
    "    Returns:\n",
    "    \n",
    "    threshold             # Threshold value\n",
    "    false_positive_rate   # False positive rate value\n",
    "    \"\"\"\n",
    "\n",
    "    fpr, tpr, thr = roc_curve(y, model.predict_proba(X)[:,1])\n",
    "\n",
    "    old_diff = 100000000\n",
    "    for index, value in enumerate(tpr):\n",
    "        new_diff = abs(value_target - value)\n",
    "        if new_diff < old_diff:\n",
    "            false_pos_rate = fpr[index]\n",
    "            threshold = thr[index]\n",
    "            old_diff = new_diff\n",
    "\n",
    "    return threshold, false_pos_rate\n",
    "\n",
    "def find_roc_threshold_f1(model, X, y):\n",
    "    \n",
    "    \"\"\"\n",
    "    This function calculates the threshold in the ROC curve that maximizes the f1 score.\n",
    "    model                 # Trained model\n",
    "    X                     # Feature dataset\n",
    "    y                     # Target dataset\n",
    "    \n",
    "    Returns:\n",
    "    \n",
    "    best_threshold        # Threshold value\n",
    "    best_f1_score         # False positive rate value\n",
    "    \n",
    "    \"\"\"\n",
    "    \n",
    "    pred_ = model.predict_proba(X)[:,1]\n",
    "\n",
    "    best_threshold = 0.5\n",
    "    best_f1_score = 0.0\n",
    "    for value in np.arange(1, 10, 0.5):\n",
    "        pred_tmp = np.where(pred_ >= float(value/10), 1, 0)\n",
    "        cost = f1_score(y, pred_tmp)\n",
    "        if cost > best_f1_score:\n",
    "            best_f1_score = cost\n",
    "            best_threshold = float(value/10)\n",
    "      \n",
    "    return best_threshold, best_f1_score\n",
    "\n",
    "def plot_confusion_matrix(cm, classes,\n",
    "                          normalize=False,\n",
    "                          title='Confusion matrix',\n",
    "                          cmap=plt.cm.Oranges,\n",
    "                          figsize=(10,10)):\n",
    "    \"\"\"\n",
    "    This function prints and plots the confusion matrix.\n",
    "    Normalization can be applied by setting `normalize=True`.\n",
    "    Source: http://scikit-learn.org/stable/auto_examples/model_selection/plot_confusion_matrix.html\n",
    "    \"\"\"\n",
    "    # Confusion matrix\n",
    "    #cm = confusion_matrix(test_labels, rf_predictions)\n",
    "    #plot_confusion_matrix(cm, classes = ['Poor Health', 'Good Health'],\n",
    "    #                      title = 'Health Confusion Matrix')\n",
    "\n",
    "    if normalize:\n",
    "        cm = cm.astype('float') / cm.sum(axis=1)[:, np.newaxis]\n",
    "        print(\"Normalized confusion matrix\")\n",
    "    else:\n",
    "        print('Confusion matrix, without normalization')\n",
    "\n",
    "    # Plot the confusion matrix\n",
    "    plt.figure(figsize = figsize)\n",
    "    plt.imshow(cm, interpolation='nearest', cmap=cmap)\n",
    "    plt.title(title, size = 18)\n",
    "    plt.colorbar(aspect=4)\n",
    "    tick_marks = np.arange(len(classes))\n",
    "    plt.xticks(tick_marks, classes, rotation=45, size = 14)\n",
    "    plt.yticks(tick_marks, classes, size = 14)\n",
    "\n",
    "    fmt = '.2f' if normalize else 'd'\n",
    "    thresh = cm.max() / 2.\n",
    "    \n",
    "    # Labeling the plot\n",
    "    for i, j in itertools.product(range(cm.shape[0]), range(cm.shape[1])):\n",
    "        plt.text(j, i, format(cm[i, j], fmt), fontsize = 18,\n",
    "                 horizontalalignment=\"center\",\n",
    "                 color=\"white\" if cm[i, j] > thresh else \"black\")\n",
    "        \n",
    "    plt.tight_layout()\n",
    "    plt.ylabel('True label', size = 18)\n",
    "    plt.xlabel('Predicted label', size = 18)\n",
    "    \n",
    "def plot_roc_curves(model_dic, X_test, y_test, figsize=(6,5)):\n",
    "\n",
    "    \"\"\"\n",
    "    This function plots the ROC curves of the models defined in model_dic.\n",
    "    The model_dic format is {'model_label' : [model_object, color-line'], ...}. Example:\n",
    "    model_dic = {['model_1' : [model_1, 'r-'], 'model_2' : [model_2, 'b-']}\n",
    "    \"\"\"\n",
    "    \n",
    "    fig = plt.figure(figsize=figsize)\n",
    "    ax = fig.add_subplot()\n",
    "\n",
    "    for key, _ in model_dic.items():\n",
    "\n",
    "        model = model_dic[key][0]\n",
    "\n",
    "        fpr, tpr, _ = roc_curve(y_test, model.predict_proba(X_test)[:,1])\n",
    "        plt.plot(fpr, tpr, model_dic[key][1], label=key)\n",
    "\n",
    "    plt.plot([0,1],[0,1],'k:',label='Random')\n",
    "    plt.plot([0,0,1,1],[0,1,1,1],'k--',label='Perfect')\n",
    "    ax.set_xlabel('False Positive Rate (1 - Specifity)')\n",
    "    ax.set_ylabel('True Positive Rate (Recall)')\n",
    "    plt.title('ROC Curve', size = 18)\n",
    "    ax.legend()\n",
    "    plt.grid()\n",
    "    plt.show()\n",
    "\n",
    "    return fig, ax"
   ]
  },
  {
   "cell_type": "markdown",
   "metadata": {},
   "source": [
    "# Data Preparation\n",
    "<a id='data-preparation'><a>"
   ]
  },
  {
   "cell_type": "markdown",
   "metadata": {
    "id": "exEGyf6vJ_4T"
   },
   "source": [
    "## Read the Data"
   ]
  },
  {
   "cell_type": "code",
   "execution_count": 7,
   "metadata": {
    "id": "I2oIx7IuKCJm",
    "tags": []
   },
   "outputs": [],
   "source": [
    "client = pd.read_csv('data/train/client_train.csv', low_memory=False)\n",
    "invoice = pd.read_csv('data/train/invoice_train.csv', low_memory=False)\n",
    "#client_test = pd.read_csv('data/test/client_test.csv', low_memory=False)\n",
    "#invoice_test = pd.read_csv('data/test/invoice_test.csv', low_memory=False)"
   ]
  },
  {
   "cell_type": "markdown",
   "metadata": {},
   "source": [
    "Columns:\n",
    "\n",
    "- Client_id: Unique id for client\n",
    "- District: District where the client is\n",
    "- Client_catg: Category client belongs to\n",
    "- Region: Area where the client is\n",
    "- Creation_date: Date client joined\n",
    "- Target: fraud:1 , not fraud: 0\n",
    "\n",
    "- Tarif_type: Type of tax\n",
    "- Counter_statue: takes up to 5 values such as working fine, not working, on hold statue, ect\n",
    "- Counter_code:\n",
    "- Reading_remarque: notes that the STEG agent takes during his visit to the client (e.g: If the counter shows something wrong, the agent gives a bad score)\n",
    "- Counter_coefficient: An additional coefficient to be added when standard consumption is exceeded\n",
    "- Consommation_level_1: Consumption_level_1\n",
    "- Consommation_level_2: Consumption_level_2\n",
    "- Consommation_level_3: Consumption_level_3\n",
    "- Consommation_level_4: Consumption_level_4\n",
    "- Months_number: Month number\n",
    "- Counter_type: Type of counter"
   ]
  },
  {
   "cell_type": "markdown",
   "metadata": {
    "id": "cDRp9i5ZO9mz"
   },
   "source": [
    "## Data Understanding"
   ]
  },
  {
   "cell_type": "code",
   "execution_count": 8,
   "metadata": {
    "colab": {
     "base_uri": "https://localhost:8080/"
    },
    "id": "h4zQzvLjKZ6E",
    "outputId": "deb14c51-2f5d-40cd-aa35-771477e044e0",
    "tags": []
   },
   "outputs": [
    {
     "name": "stdout",
     "output_type": "stream",
     "text": [
      "(135493, 6) (4476749, 16)\n"
     ]
    }
   ],
   "source": [
    "#compare size of the various datasets\n",
    "print(client.shape, invoice.shape)"
   ]
  },
  {
   "cell_type": "code",
   "execution_count": 9,
   "metadata": {
    "colab": {
     "base_uri": "https://localhost:8080/",
     "height": 270
    },
    "id": "Tw1On2leQsxU",
    "outputId": "4bbe6376-2007-4ea4-cd6f-e53e4c0bcb33",
    "tags": []
   },
   "outputs": [
    {
     "data": {
      "text/html": [
       "<div>\n",
       "<style scoped>\n",
       "    .dataframe tbody tr th:only-of-type {\n",
       "        vertical-align: middle;\n",
       "    }\n",
       "\n",
       "    .dataframe tbody tr th {\n",
       "        vertical-align: top;\n",
       "    }\n",
       "\n",
       "    .dataframe thead th {\n",
       "        text-align: right;\n",
       "    }\n",
       "</style>\n",
       "<table border=\"1\" class=\"dataframe\">\n",
       "  <thead>\n",
       "    <tr style=\"text-align: right;\">\n",
       "      <th></th>\n",
       "      <th>client_id</th>\n",
       "      <th>invoice_date</th>\n",
       "      <th>tarif_type</th>\n",
       "      <th>counter_number</th>\n",
       "      <th>counter_statue</th>\n",
       "      <th>counter_code</th>\n",
       "      <th>reading_remarque</th>\n",
       "      <th>counter_coefficient</th>\n",
       "      <th>consommation_level_1</th>\n",
       "      <th>consommation_level_2</th>\n",
       "      <th>consommation_level_3</th>\n",
       "      <th>consommation_level_4</th>\n",
       "      <th>old_index</th>\n",
       "      <th>new_index</th>\n",
       "      <th>months_number</th>\n",
       "      <th>counter_type</th>\n",
       "    </tr>\n",
       "  </thead>\n",
       "  <tbody>\n",
       "    <tr>\n",
       "      <th>0</th>\n",
       "      <td>train_Client_0</td>\n",
       "      <td>2014-03-24</td>\n",
       "      <td>11</td>\n",
       "      <td>1335667</td>\n",
       "      <td>0</td>\n",
       "      <td>203</td>\n",
       "      <td>8</td>\n",
       "      <td>1</td>\n",
       "      <td>82</td>\n",
       "      <td>0</td>\n",
       "      <td>0</td>\n",
       "      <td>0</td>\n",
       "      <td>14302</td>\n",
       "      <td>14384</td>\n",
       "      <td>4</td>\n",
       "      <td>ELEC</td>\n",
       "    </tr>\n",
       "    <tr>\n",
       "      <th>1</th>\n",
       "      <td>train_Client_0</td>\n",
       "      <td>2013-03-29</td>\n",
       "      <td>11</td>\n",
       "      <td>1335667</td>\n",
       "      <td>0</td>\n",
       "      <td>203</td>\n",
       "      <td>6</td>\n",
       "      <td>1</td>\n",
       "      <td>1200</td>\n",
       "      <td>184</td>\n",
       "      <td>0</td>\n",
       "      <td>0</td>\n",
       "      <td>12294</td>\n",
       "      <td>13678</td>\n",
       "      <td>4</td>\n",
       "      <td>ELEC</td>\n",
       "    </tr>\n",
       "  </tbody>\n",
       "</table>\n",
       "</div>"
      ],
      "text/plain": [
       "        client_id invoice_date  tarif_type  counter_number counter_statue   \n",
       "0  train_Client_0   2014-03-24          11         1335667              0  \\\n",
       "1  train_Client_0   2013-03-29          11         1335667              0   \n",
       "\n",
       "   counter_code  reading_remarque  counter_coefficient  consommation_level_1   \n",
       "0           203                 8                    1                    82  \\\n",
       "1           203                 6                    1                  1200   \n",
       "\n",
       "   consommation_level_2  consommation_level_3  consommation_level_4   \n",
       "0                     0                     0                     0  \\\n",
       "1                   184                     0                     0   \n",
       "\n",
       "   old_index  new_index  months_number counter_type  \n",
       "0      14302      14384              4         ELEC  \n",
       "1      12294      13678              4         ELEC  "
      ]
     },
     "execution_count": 9,
     "metadata": {},
     "output_type": "execute_result"
    }
   ],
   "source": [
    "#print top rows of dataset\n",
    "invoice.head(2)"
   ]
  },
  {
   "cell_type": "code",
   "execution_count": 10,
   "metadata": {
    "tags": []
   },
   "outputs": [
    {
     "data": {
      "text/html": [
       "<div>\n",
       "<style scoped>\n",
       "    .dataframe tbody tr th:only-of-type {\n",
       "        vertical-align: middle;\n",
       "    }\n",
       "\n",
       "    .dataframe tbody tr th {\n",
       "        vertical-align: top;\n",
       "    }\n",
       "\n",
       "    .dataframe thead th {\n",
       "        text-align: right;\n",
       "    }\n",
       "</style>\n",
       "<table border=\"1\" class=\"dataframe\">\n",
       "  <thead>\n",
       "    <tr style=\"text-align: right;\">\n",
       "      <th></th>\n",
       "      <th>disrict</th>\n",
       "      <th>client_id</th>\n",
       "      <th>client_catg</th>\n",
       "      <th>region</th>\n",
       "      <th>creation_date</th>\n",
       "      <th>target</th>\n",
       "    </tr>\n",
       "  </thead>\n",
       "  <tbody>\n",
       "    <tr>\n",
       "      <th>0</th>\n",
       "      <td>60</td>\n",
       "      <td>train_Client_0</td>\n",
       "      <td>11</td>\n",
       "      <td>101</td>\n",
       "      <td>31/12/1994</td>\n",
       "      <td>0.00</td>\n",
       "    </tr>\n",
       "    <tr>\n",
       "      <th>1</th>\n",
       "      <td>69</td>\n",
       "      <td>train_Client_1</td>\n",
       "      <td>11</td>\n",
       "      <td>107</td>\n",
       "      <td>29/05/2002</td>\n",
       "      <td>0.00</td>\n",
       "    </tr>\n",
       "  </tbody>\n",
       "</table>\n",
       "</div>"
      ],
      "text/plain": [
       "   disrict       client_id  client_catg  region creation_date  target\n",
       "0       60  train_Client_0           11     101    31/12/1994    0.00\n",
       "1       69  train_Client_1           11     107    29/05/2002    0.00"
      ]
     },
     "execution_count": 10,
     "metadata": {},
     "output_type": "execute_result"
    }
   ],
   "source": [
    "client.head(2)"
   ]
  },
  {
   "cell_type": "code",
   "execution_count": 11,
   "metadata": {
    "colab": {
     "base_uri": "https://localhost:8080/",
     "height": 300
    },
    "id": "fFBTeG8YSicC",
    "outputId": "551f42dc-8b1c-42a9-9a60-f6dc9279911b",
    "tags": []
   },
   "outputs": [
    {
     "data": {
      "text/html": [
       "<div>\n",
       "<style scoped>\n",
       "    .dataframe tbody tr th:only-of-type {\n",
       "        vertical-align: middle;\n",
       "    }\n",
       "\n",
       "    .dataframe tbody tr th {\n",
       "        vertical-align: top;\n",
       "    }\n",
       "\n",
       "    .dataframe thead th {\n",
       "        text-align: right;\n",
       "    }\n",
       "</style>\n",
       "<table border=\"1\" class=\"dataframe\">\n",
       "  <thead>\n",
       "    <tr style=\"text-align: right;\">\n",
       "      <th></th>\n",
       "      <th>count</th>\n",
       "      <th>mean</th>\n",
       "      <th>std</th>\n",
       "      <th>min</th>\n",
       "      <th>25%</th>\n",
       "      <th>50%</th>\n",
       "      <th>75%</th>\n",
       "      <th>max</th>\n",
       "    </tr>\n",
       "  </thead>\n",
       "  <tbody>\n",
       "    <tr>\n",
       "      <th>tarif_type</th>\n",
       "      <td>4,476,749.00</td>\n",
       "      <td>20.13</td>\n",
       "      <td>13.47</td>\n",
       "      <td>8.00</td>\n",
       "      <td>11.00</td>\n",
       "      <td>11.00</td>\n",
       "      <td>40.00</td>\n",
       "      <td>45.00</td>\n",
       "    </tr>\n",
       "    <tr>\n",
       "      <th>counter_number</th>\n",
       "      <td>4,476,749.00</td>\n",
       "      <td>123,058,699,065.18</td>\n",
       "      <td>1,657,267,274,261.93</td>\n",
       "      <td>0.00</td>\n",
       "      <td>121,108.00</td>\n",
       "      <td>494,561.00</td>\n",
       "      <td>1,115,161.00</td>\n",
       "      <td>27,981,145,458,733.00</td>\n",
       "    </tr>\n",
       "    <tr>\n",
       "      <th>counter_code</th>\n",
       "      <td>4,476,749.00</td>\n",
       "      <td>172.49</td>\n",
       "      <td>133.89</td>\n",
       "      <td>0.00</td>\n",
       "      <td>5.00</td>\n",
       "      <td>203.00</td>\n",
       "      <td>207.00</td>\n",
       "      <td>600.00</td>\n",
       "    </tr>\n",
       "    <tr>\n",
       "      <th>reading_remarque</th>\n",
       "      <td>4,476,749.00</td>\n",
       "      <td>7.32</td>\n",
       "      <td>1.57</td>\n",
       "      <td>5.00</td>\n",
       "      <td>6.00</td>\n",
       "      <td>8.00</td>\n",
       "      <td>9.00</td>\n",
       "      <td>413.00</td>\n",
       "    </tr>\n",
       "    <tr>\n",
       "      <th>counter_coefficient</th>\n",
       "      <td>4,476,749.00</td>\n",
       "      <td>1.00</td>\n",
       "      <td>0.31</td>\n",
       "      <td>0.00</td>\n",
       "      <td>1.00</td>\n",
       "      <td>1.00</td>\n",
       "      <td>1.00</td>\n",
       "      <td>50.00</td>\n",
       "    </tr>\n",
       "    <tr>\n",
       "      <th>consommation_level_1</th>\n",
       "      <td>4,476,749.00</td>\n",
       "      <td>410.98</td>\n",
       "      <td>757.31</td>\n",
       "      <td>0.00</td>\n",
       "      <td>79.00</td>\n",
       "      <td>274.00</td>\n",
       "      <td>600.00</td>\n",
       "      <td>999,910.00</td>\n",
       "    </tr>\n",
       "    <tr>\n",
       "      <th>consommation_level_2</th>\n",
       "      <td>4,476,749.00</td>\n",
       "      <td>109.32</td>\n",
       "      <td>1,220.12</td>\n",
       "      <td>0.00</td>\n",
       "      <td>0.00</td>\n",
       "      <td>0.00</td>\n",
       "      <td>0.00</td>\n",
       "      <td>999,073.00</td>\n",
       "    </tr>\n",
       "    <tr>\n",
       "      <th>consommation_level_3</th>\n",
       "      <td>4,476,749.00</td>\n",
       "      <td>20.31</td>\n",
       "      <td>157.42</td>\n",
       "      <td>0.00</td>\n",
       "      <td>0.00</td>\n",
       "      <td>0.00</td>\n",
       "      <td>0.00</td>\n",
       "      <td>64,492.00</td>\n",
       "    </tr>\n",
       "    <tr>\n",
       "      <th>consommation_level_4</th>\n",
       "      <td>4,476,749.00</td>\n",
       "      <td>52.93</td>\n",
       "      <td>875.47</td>\n",
       "      <td>0.00</td>\n",
       "      <td>0.00</td>\n",
       "      <td>0.00</td>\n",
       "      <td>0.00</td>\n",
       "      <td>547,946.00</td>\n",
       "    </tr>\n",
       "    <tr>\n",
       "      <th>old_index</th>\n",
       "      <td>4,476,749.00</td>\n",
       "      <td>17,767.00</td>\n",
       "      <td>40,366.93</td>\n",
       "      <td>0.00</td>\n",
       "      <td>1,791.00</td>\n",
       "      <td>7,690.00</td>\n",
       "      <td>21,660.00</td>\n",
       "      <td>2,800,280.00</td>\n",
       "    </tr>\n",
       "    <tr>\n",
       "      <th>new_index</th>\n",
       "      <td>4,476,749.00</td>\n",
       "      <td>18,349.70</td>\n",
       "      <td>40,953.21</td>\n",
       "      <td>0.00</td>\n",
       "      <td>2,056.00</td>\n",
       "      <td>8,192.00</td>\n",
       "      <td>22,343.00</td>\n",
       "      <td>2,870,972.00</td>\n",
       "    </tr>\n",
       "    <tr>\n",
       "      <th>months_number</th>\n",
       "      <td>4,476,749.00</td>\n",
       "      <td>44.83</td>\n",
       "      <td>3,128.34</td>\n",
       "      <td>0.00</td>\n",
       "      <td>4.00</td>\n",
       "      <td>4.00</td>\n",
       "      <td>4.00</td>\n",
       "      <td>636,624.00</td>\n",
       "    </tr>\n",
       "  </tbody>\n",
       "</table>\n",
       "</div>"
      ],
      "text/plain": [
       "                            count               mean                  std   \n",
       "tarif_type           4,476,749.00              20.13                13.47  \\\n",
       "counter_number       4,476,749.00 123,058,699,065.18 1,657,267,274,261.93   \n",
       "counter_code         4,476,749.00             172.49               133.89   \n",
       "reading_remarque     4,476,749.00               7.32                 1.57   \n",
       "counter_coefficient  4,476,749.00               1.00                 0.31   \n",
       "consommation_level_1 4,476,749.00             410.98               757.31   \n",
       "consommation_level_2 4,476,749.00             109.32             1,220.12   \n",
       "consommation_level_3 4,476,749.00              20.31               157.42   \n",
       "consommation_level_4 4,476,749.00              52.93               875.47   \n",
       "old_index            4,476,749.00          17,767.00            40,366.93   \n",
       "new_index            4,476,749.00          18,349.70            40,953.21   \n",
       "months_number        4,476,749.00              44.83             3,128.34   \n",
       "\n",
       "                      min        25%        50%          75%   \n",
       "tarif_type           8.00      11.00      11.00        40.00  \\\n",
       "counter_number       0.00 121,108.00 494,561.00 1,115,161.00   \n",
       "counter_code         0.00       5.00     203.00       207.00   \n",
       "reading_remarque     5.00       6.00       8.00         9.00   \n",
       "counter_coefficient  0.00       1.00       1.00         1.00   \n",
       "consommation_level_1 0.00      79.00     274.00       600.00   \n",
       "consommation_level_2 0.00       0.00       0.00         0.00   \n",
       "consommation_level_3 0.00       0.00       0.00         0.00   \n",
       "consommation_level_4 0.00       0.00       0.00         0.00   \n",
       "old_index            0.00   1,791.00   7,690.00    21,660.00   \n",
       "new_index            0.00   2,056.00   8,192.00    22,343.00   \n",
       "months_number        0.00       4.00       4.00         4.00   \n",
       "\n",
       "                                       max  \n",
       "tarif_type                           45.00  \n",
       "counter_number       27,981,145,458,733.00  \n",
       "counter_code                        600.00  \n",
       "reading_remarque                    413.00  \n",
       "counter_coefficient                  50.00  \n",
       "consommation_level_1            999,910.00  \n",
       "consommation_level_2            999,073.00  \n",
       "consommation_level_3             64,492.00  \n",
       "consommation_level_4            547,946.00  \n",
       "old_index                     2,800,280.00  \n",
       "new_index                     2,870,972.00  \n",
       "months_number                   636,624.00  "
      ]
     },
     "execution_count": 11,
     "metadata": {},
     "output_type": "execute_result"
    }
   ],
   "source": [
    "#Get a summary for all numerical columns\n",
    "invoice.describe().T"
   ]
  },
  {
   "cell_type": "code",
   "execution_count": 12,
   "metadata": {
    "colab": {
     "base_uri": "https://localhost:8080/",
     "height": 300
    },
    "id": "egcBZ2ysSkji",
    "outputId": "37102972-554b-4063-ce3b-14dae74b3540",
    "tags": []
   },
   "outputs": [
    {
     "data": {
      "text/html": [
       "<div>\n",
       "<style scoped>\n",
       "    .dataframe tbody tr th:only-of-type {\n",
       "        vertical-align: middle;\n",
       "    }\n",
       "\n",
       "    .dataframe tbody tr th {\n",
       "        vertical-align: top;\n",
       "    }\n",
       "\n",
       "    .dataframe thead th {\n",
       "        text-align: right;\n",
       "    }\n",
       "</style>\n",
       "<table border=\"1\" class=\"dataframe\">\n",
       "  <thead>\n",
       "    <tr style=\"text-align: right;\">\n",
       "      <th></th>\n",
       "      <th>disrict</th>\n",
       "      <th>client_catg</th>\n",
       "      <th>region</th>\n",
       "      <th>target</th>\n",
       "    </tr>\n",
       "  </thead>\n",
       "  <tbody>\n",
       "    <tr>\n",
       "      <th>count</th>\n",
       "      <td>135,493.00</td>\n",
       "      <td>135,493.00</td>\n",
       "      <td>135,493.00</td>\n",
       "      <td>135,493.00</td>\n",
       "    </tr>\n",
       "    <tr>\n",
       "      <th>mean</th>\n",
       "      <td>63.51</td>\n",
       "      <td>11.51</td>\n",
       "      <td>206.16</td>\n",
       "      <td>0.06</td>\n",
       "    </tr>\n",
       "    <tr>\n",
       "      <th>std</th>\n",
       "      <td>3.35</td>\n",
       "      <td>4.42</td>\n",
       "      <td>104.21</td>\n",
       "      <td>0.23</td>\n",
       "    </tr>\n",
       "    <tr>\n",
       "      <th>min</th>\n",
       "      <td>60.00</td>\n",
       "      <td>11.00</td>\n",
       "      <td>101.00</td>\n",
       "      <td>0.00</td>\n",
       "    </tr>\n",
       "    <tr>\n",
       "      <th>25%</th>\n",
       "      <td>62.00</td>\n",
       "      <td>11.00</td>\n",
       "      <td>103.00</td>\n",
       "      <td>0.00</td>\n",
       "    </tr>\n",
       "    <tr>\n",
       "      <th>50%</th>\n",
       "      <td>62.00</td>\n",
       "      <td>11.00</td>\n",
       "      <td>107.00</td>\n",
       "      <td>0.00</td>\n",
       "    </tr>\n",
       "    <tr>\n",
       "      <th>75%</th>\n",
       "      <td>69.00</td>\n",
       "      <td>11.00</td>\n",
       "      <td>307.00</td>\n",
       "      <td>0.00</td>\n",
       "    </tr>\n",
       "    <tr>\n",
       "      <th>max</th>\n",
       "      <td>69.00</td>\n",
       "      <td>51.00</td>\n",
       "      <td>399.00</td>\n",
       "      <td>1.00</td>\n",
       "    </tr>\n",
       "  </tbody>\n",
       "</table>\n",
       "</div>"
      ],
      "text/plain": [
       "         disrict  client_catg     region     target\n",
       "count 135,493.00   135,493.00 135,493.00 135,493.00\n",
       "mean       63.51        11.51     206.16       0.06\n",
       "std         3.35         4.42     104.21       0.23\n",
       "min        60.00        11.00     101.00       0.00\n",
       "25%        62.00        11.00     103.00       0.00\n",
       "50%        62.00        11.00     107.00       0.00\n",
       "75%        69.00        11.00     307.00       0.00\n",
       "max        69.00        51.00     399.00       1.00"
      ]
     },
     "execution_count": 12,
     "metadata": {},
     "output_type": "execute_result"
    }
   ],
   "source": [
    "#Get a summary for all numerical columns\n",
    "client.describe()"
   ]
  },
  {
   "cell_type": "code",
   "execution_count": 13,
   "metadata": {
    "colab": {
     "base_uri": "https://localhost:8080/"
    },
    "id": "-8gQmkajSnXs",
    "outputId": "fef429ad-2fd5-46e3-9d3b-32def757324c",
    "tags": []
   },
   "outputs": [
    {
     "name": "stdout",
     "output_type": "stream",
     "text": [
      "<class 'pandas.core.frame.DataFrame'>\n",
      "RangeIndex: 4476749 entries, 0 to 4476748\n",
      "Data columns (total 16 columns):\n",
      " #   Column                Dtype \n",
      "---  ------                ----- \n",
      " 0   client_id             object\n",
      " 1   invoice_date          object\n",
      " 2   tarif_type            int64 \n",
      " 3   counter_number        int64 \n",
      " 4   counter_statue        object\n",
      " 5   counter_code          int64 \n",
      " 6   reading_remarque      int64 \n",
      " 7   counter_coefficient   int64 \n",
      " 8   consommation_level_1  int64 \n",
      " 9   consommation_level_2  int64 \n",
      " 10  consommation_level_3  int64 \n",
      " 11  consommation_level_4  int64 \n",
      " 12  old_index             int64 \n",
      " 13  new_index             int64 \n",
      " 14  months_number         int64 \n",
      " 15  counter_type          object\n",
      "dtypes: int64(12), object(4)\n",
      "memory usage: 546.5+ MB\n"
     ]
    }
   ],
   "source": [
    "#Get concise information of each column in dataset\n",
    "invoice.info()"
   ]
  },
  {
   "cell_type": "code",
   "execution_count": 14,
   "metadata": {
    "colab": {
     "base_uri": "https://localhost:8080/"
    },
    "id": "VII8aa8CSoed",
    "outputId": "330bd35b-fd37-422b-b718-c34d354661db",
    "tags": []
   },
   "outputs": [
    {
     "name": "stdout",
     "output_type": "stream",
     "text": [
      "<class 'pandas.core.frame.DataFrame'>\n",
      "RangeIndex: 135493 entries, 0 to 135492\n",
      "Data columns (total 6 columns):\n",
      " #   Column         Non-Null Count   Dtype  \n",
      "---  ------         --------------   -----  \n",
      " 0   disrict        135493 non-null  int64  \n",
      " 1   client_id      135493 non-null  object \n",
      " 2   client_catg    135493 non-null  int64  \n",
      " 3   region         135493 non-null  int64  \n",
      " 4   creation_date  135493 non-null  object \n",
      " 5   target         135493 non-null  float64\n",
      "dtypes: float64(1), int64(3), object(2)\n",
      "memory usage: 6.2+ MB\n"
     ]
    }
   ],
   "source": [
    "#Get concise information of each column in dataset\n",
    "client.info()"
   ]
  },
  {
   "cell_type": "code",
   "execution_count": 15,
   "metadata": {
    "colab": {
     "base_uri": "https://localhost:8080/"
    },
    "id": "iiJ3e_pFSOWg",
    "outputId": "d074cb2a-d009-471f-f124-466db367df68",
    "tags": []
   },
   "outputs": [
    {
     "name": "stdout",
     "output_type": "stream",
     "text": [
      "client_id - 135493\n",
      "invoice_date - 8275\n",
      "tarif_type - 17\n",
      "counter_number - 201893\n",
      "counter_statue - 12\n",
      "counter_code - 42\n",
      "reading_remarque - 8\n",
      "counter_coefficient - 16\n",
      "consommation_level_1 - 8295\n",
      "consommation_level_2 - 12576\n",
      "consommation_level_3 - 2253\n",
      "consommation_level_4 - 12075\n",
      "old_index - 155648\n",
      "new_index - 157980\n",
      "months_number - 1370\n",
      "counter_type - 2\n"
     ]
    }
   ],
   "source": [
    "#Getting unique values on the invoice train data\n",
    "for col in invoice.columns:\n",
    "    print(f\"{col} - {invoice[col].nunique()}\")"
   ]
  },
  {
   "cell_type": "code",
   "execution_count": 16,
   "metadata": {
    "colab": {
     "base_uri": "https://localhost:8080/"
    },
    "id": "uMC16gFETUAF",
    "outputId": "0e363f7b-35c4-45c2-c763-acf80585ef7c",
    "tags": []
   },
   "outputs": [
    {
     "name": "stdout",
     "output_type": "stream",
     "text": [
      "disrict - 4\n",
      "client_id - 135493\n",
      "client_catg - 3\n",
      "region - 25\n",
      "creation_date - 8088\n",
      "target - 2\n"
     ]
    }
   ],
   "source": [
    "#Getting unique values on the invoice train data\n",
    "for col in client.columns:\n",
    "    print(f\"{col} - {client[col].nunique()}\")"
   ]
  },
  {
   "cell_type": "code",
   "execution_count": 17,
   "metadata": {
    "colab": {
     "base_uri": "https://localhost:8080/"
    },
    "id": "h10LPXsfVHhu",
    "outputId": "332ac9e1-02e3-4a3a-a8d6-1c8d706b9601",
    "tags": []
   },
   "outputs": [
    {
     "data": {
      "text/plain": [
       "client_id               0\n",
       "invoice_date            0\n",
       "tarif_type              0\n",
       "counter_number          0\n",
       "counter_statue          0\n",
       "counter_code            0\n",
       "reading_remarque        0\n",
       "counter_coefficient     0\n",
       "consommation_level_1    0\n",
       "consommation_level_2    0\n",
       "consommation_level_3    0\n",
       "consommation_level_4    0\n",
       "old_index               0\n",
       "new_index               0\n",
       "months_number           0\n",
       "counter_type            0\n",
       "dtype: int64"
      ]
     },
     "execution_count": 17,
     "metadata": {},
     "output_type": "execute_result"
    }
   ],
   "source": [
    "#check for missing values\n",
    "invoice.isnull().sum()"
   ]
  },
  {
   "cell_type": "code",
   "execution_count": 18,
   "metadata": {
    "colab": {
     "base_uri": "https://localhost:8080/"
    },
    "id": "b3XyoiIbVO-b",
    "outputId": "9200e12f-66fd-43a4-edf4-daa1e1cfdd11",
    "tags": []
   },
   "outputs": [
    {
     "data": {
      "text/plain": [
       "disrict          0\n",
       "client_id        0\n",
       "client_catg      0\n",
       "region           0\n",
       "creation_date    0\n",
       "target           0\n",
       "dtype: int64"
      ]
     },
     "execution_count": 18,
     "metadata": {},
     "output_type": "execute_result"
    }
   ],
   "source": [
    "#check for missing values\n",
    "client.isnull().sum()"
   ]
  },
  {
   "cell_type": "markdown",
   "metadata": {
    "id": "i3oZLTnSVSOT"
   },
   "source": [
    "No missing values in train set"
   ]
  },
  {
   "cell_type": "code",
   "execution_count": 19,
   "metadata": {
    "colab": {
     "base_uri": "https://localhost:8080/",
     "height": 281
    },
    "id": "JOzSAlEWTR3j",
    "outputId": "97a46548-924e-44a4-9b85-e40d01979b99",
    "tags": []
   },
   "outputs": [
    {
     "data": {
      "image/png": "[encoded data removed]",
      "text/plain": [
       "<Figure size 800x500 with 1 Axes>"
      ]
     },
     "metadata": {},
     "output_type": "display_data"
    }
   ],
   "source": [
    "#Visualize fraudulent activities\n",
    "fraudactivities = client.groupby(['target'])['client_id'].count()\n",
    "plt.bar(x=fraudactivities.index, height=fraudactivities.values, tick_label = [0,1])\n",
    "plt.title('Fraud - Target Distribution')\n",
    "plt.show()"
   ]
  },
  {
   "cell_type": "markdown",
   "metadata": {
    "id": "fQb7RZf_Ufn9"
   },
   "source": [
    "The target is highly imbalanced with fewer cases of fraudulent activities. Oversampling or undersampling methods will be investigated."
   ]
  },
  {
   "cell_type": "code",
   "execution_count": 20,
   "metadata": {
    "colab": {
     "base_uri": "https://localhost:8080/",
     "height": 545
    },
    "id": "v8G8BPgMUrVW",
    "outputId": "886941f9-3a90-48c2-ddac-75728bd7b935",
    "tags": []
   },
   "outputs": [
    {
     "data": {
      "image/png": "[encoded data removed]",
      "text/plain": [
       "<Figure size 800x500 with 2 Axes>"
      ]
     },
     "metadata": {},
     "output_type": "display_data"
    }
   ],
   "source": [
    "#Visualize client distribution across districts and regions\n",
    "region1 = client.groupby('disrict')['client_id'].count()\n",
    "fig = plt.figure()\n",
    "ax1 = fig.add_subplot(211)\n",
    "plt.bar(x=region1.index, height=region1.values)\n",
    "plt.title('District Distribution')\n",
    "region2 = client.groupby('region')['client_id'].count()\n",
    "ax2 = fig.add_subplot(212)\n",
    "plt.bar(x=region2.index, height=region2.values)\n",
    "plt.title('Region Distribution')\n",
    "plt.subplots_adjust(hspace=0.3)\n",
    "plt.show()"
   ]
  },
  {
   "cell_type": "markdown",
   "metadata": {},
   "source": [
    "# Feature Engineering\n",
    "<a id='feature-engineering'><a>"
   ]
  },
  {
   "cell_type": "code",
   "execution_count": 21,
   "metadata": {
    "tags": []
   },
   "outputs": [],
   "source": [
    "#rename columns\n",
    "client.rename(columns={\n",
    "    'disrict': 'district',\n",
    "}, inplace=True)\n",
    "\n",
    "invoice.rename(columns={\n",
    "    'counter_statue': 'counter_status',\n",
    "    'reading_remarque': 'agent_remark',\n",
    "    # Add more columns as needed\n",
    "}, inplace=True)"
   ]
  },
  {
   "cell_type": "code",
   "execution_count": 22,
   "metadata": {
    "tags": []
   },
   "outputs": [],
   "source": [
    "# List of columns to convert to categorical\n",
    "columns_to_convert = ['tarif_type', 'counter_code', 'months_number', 'counter_type']\n",
    "\n",
    "# Convert each column in invoice\n",
    "for column in columns_to_convert:\n",
    "    invoice[column] = invoice[column].astype('category')"
   ]
  },
  {
   "cell_type": "code",
   "execution_count": 23,
   "metadata": {
    "tags": []
   },
   "outputs": [],
   "source": [
    "# List of columns to convert to categorical\n",
    "columns_to_convert = ['client_id', 'region','district']\n",
    "\n",
    "# Convert each column in client\n",
    "for column in columns_to_convert:\n",
    "    client[column] = client[column].astype('category')"
   ]
  },
  {
   "cell_type": "code",
   "execution_count": 24,
   "metadata": {
    "tags": []
   },
   "outputs": [],
   "source": [
    "# Convert columns to integer, ensuring support for NaN values\n",
    "columns_to_convert = ['target']\n",
    "\n",
    "# Convert each column in client to a pandas nullable integer type\n",
    "for column in columns_to_convert:\n",
    "    client[column] = client[column].astype('int32')"
   ]
  },
  {
   "cell_type": "code",
   "execution_count": 25,
   "metadata": {
    "tags": []
   },
   "outputs": [],
   "source": [
    "# Change strings in counter_status to integers\n",
    "def convert_to_int(value):\n",
    "    # Check if the value is 'A' and return 500\n",
    "    if value == 'A':\n",
    "        return 500\n",
    "    # Try to convert numeric strings directly to int\n",
    "    try:\n",
    "        return int(value)\n",
    "    # If conversion fails (which shouldn't happen with the given conditions), return the value\n",
    "    except ValueError:\n",
    "        return value\n",
    "    \n",
    "invoice['counter_status'] = invoice['counter_status'].apply(convert_to_int)"
   ]
  },
  {
   "cell_type": "code",
   "execution_count": 26,
   "metadata": {
    "tags": []
   },
   "outputs": [],
   "source": [
    "# convert columns to integer, ensuring support for NaN values\n",
    "columns_to_convert = ['counter_status','counter_code']\n",
    "\n",
    "# Convert each column in client to a pandas nullable integer type\n",
    "for column in columns_to_convert:\n",
    "    invoice[column] = invoice[column].astype('int32')"
   ]
  },
  {
   "cell_type": "code",
   "execution_count": 27,
   "metadata": {
    "tags": []
   },
   "outputs": [],
   "source": [
    "#Change date to datetime\n",
    "client['creation_date'] = pd.to_datetime(client['creation_date'])\n",
    "\n",
    "#Change date to datetime\n",
    "invoice['invoice_date'] = pd.to_datetime(invoice['invoice_date'])"
   ]
  },
  {
   "cell_type": "code",
   "execution_count": 28,
   "metadata": {
    "tags": []
   },
   "outputs": [],
   "source": [
    "# calculate total consumption per billing cycle per counter type\n",
    "invoice['total_consumption'] = invoice[['consommation_level_1', 'consommation_level_2', 'consommation_level_3', 'consommation_level_4']].sum(axis=1)"
   ]
  },
  {
   "cell_type": "code",
   "execution_count": 29,
   "metadata": {
    "tags": []
   },
   "outputs": [],
   "source": [
    "# Then, aggregate total_consumption by client_id\n",
    "aggregated_consumption_ener = invoice.groupby('client_id')['total_consumption'].agg(\n",
    "    ener_total_consumption='sum',  # Aggregate the total\n",
    "    ener_min_consumption='min',\n",
    "    ener_max_consumption='max',\n",
    "    ener_mean_consumption='mean',\n",
    "    ener_std_consumption='std',\n",
    "    ener_range_consumption=lambda x: x.max() - x.min()  # Calculate the range as max - min\n",
    ").reset_index()"
   ]
  },
  {
   "cell_type": "code",
   "execution_count": 30,
   "metadata": {
    "tags": []
   },
   "outputs": [],
   "source": [
    "invoice['invoice_month'] = invoice['invoice_date'].dt.month\n",
    "invoice['invoice_year'] = invoice['invoice_date'].dt.year"
   ]
  },
  {
   "cell_type": "code",
   "execution_count": 31,
   "metadata": {
    "tags": []
   },
   "outputs": [],
   "source": [
    "# Aggregate consumption by client_id for each consumption level separately\n",
    "aggregated_consumption_ener_1 = invoice.groupby('client_id')['consommation_level_1'].agg(\n",
    "    cons1_total='sum',\n",
    "    cons1_min='min',\n",
    "    cons1_max='max',\n",
    "    cons1_mean='mean',\n",
    "    cons1_std='std',\n",
    "    cons1_range=lambda x: x.max() - x.min()\n",
    ").reset_index()\n",
    "\n",
    "aggregated_consumption_ener_2 = invoice.groupby('client_id')['consommation_level_2'].agg(\n",
    "    cons2_total='sum',\n",
    "    cons2_min='min',\n",
    "    cons2_max='max',\n",
    "    cons2_mean='mean',\n",
    "    cons2_std='std',\n",
    "    cons2_range=lambda x: x.max() - x.min()\n",
    ").reset_index()\n",
    "\n",
    "aggregated_consumption_ener_3 = invoice.groupby('client_id')['consommation_level_3'].agg(\n",
    "    cons3_total='sum',\n",
    "    cons3_min='min',\n",
    "    cons3_max='max',\n",
    "    cons3_mean='mean',\n",
    "    cons3_std='std',\n",
    "    cons3_range=lambda x: x.max() - x.min()\n",
    ").reset_index()\n",
    "\n",
    "aggregated_consumption_ener_4 = invoice.groupby('client_id')['consommation_level_4'].agg(\n",
    "    cons4_total='sum',\n",
    "    cons4_min='min',\n",
    "    cons4_max='max',\n",
    "    cons4_mean='mean',\n",
    "    cons4_std='std',\n",
    "    cons4_range=lambda x: x.max() - x.min()\n",
    ").reset_index()"
   ]
  },
  {
   "cell_type": "code",
   "execution_count": 32,
   "metadata": {
    "tags": []
   },
   "outputs": [],
   "source": [
    "# Replace values of counter_status\n",
    "invoice['counter_status'] = invoice['counter_status'].replace(500, 6)\n",
    "invoice['counter_status'] = invoice['counter_status'].replace(769, 7)\n",
    "invoice['counter_status'] = invoice['counter_status'].replace(618, 8)\n",
    "invoice['counter_status'] = invoice['counter_status'].replace(269375, 9)\n",
    "invoice['counter_status'] = invoice['counter_status'].replace(46, 10)\n",
    "invoice['counter_status'] = invoice['counter_status'].replace(420, 11)"
   ]
  },
  {
   "cell_type": "code",
   "execution_count": 33,
   "metadata": {
    "tags": []
   },
   "outputs": [],
   "source": [
    "# Aggregate counter_status by client_id\n",
    "aggregated_counter_status = invoice.groupby('client_id')['counter_status'].agg(\n",
    "    counter_status_min='min',\n",
    "    counter_status_max='max',\n",
    "    counter_status_mean='mean',\n",
    "    counter_status_std='std',\n",
    ").reset_index()"
   ]
  },
  {
   "cell_type": "code",
   "execution_count": 34,
   "metadata": {
    "tags": []
   },
   "outputs": [],
   "source": [
    "# Replace values of agent_remark\n",
    "invoice['agent_remark'] = invoice['agent_remark'].replace(5, 1)\n",
    "invoice['agent_remark'] = invoice['agent_remark'].replace(6, 2)\n",
    "invoice['agent_remark'] = invoice['agent_remark'].replace(7, 3)\n",
    "invoice['agent_remark'] = invoice['agent_remark'].replace(8, 4)\n",
    "invoice['agent_remark'] = invoice['agent_remark'].replace(9, 5)\n",
    "invoice['agent_remark'] = invoice['agent_remark'].replace(203, 6)\n",
    "invoice['agent_remark'] = invoice['agent_remark'].replace(207, 7)\n",
    "invoice['agent_remark'] = invoice['agent_remark'].replace(413, 8)"
   ]
  },
  {
   "cell_type": "code",
   "execution_count": 35,
   "metadata": {
    "tags": []
   },
   "outputs": [],
   "source": [
    "# Aggregate agent_remark by client_id\n",
    "aggregated_agent_remark = invoice.groupby('client_id')['agent_remark'].agg(\n",
    "    agent_remark_min='min',\n",
    "    agent_remark_max='max',\n",
    "    agent_remark_mean='mean',\n",
    "    agent_remark_std='std',\n",
    "    #agent_remark_mode='mode'\n",
    ").reset_index()"
   ]
  },
  {
   "cell_type": "code",
   "execution_count": 36,
   "metadata": {
    "tags": []
   },
   "outputs": [],
   "source": [
    "# Aggregate counter_coefficient by client_id\n",
    "aggregated_counter_coefficient = invoice.groupby('client_id')['counter_coefficient'].agg(\n",
    "    counter_coefficient_min='min',\n",
    "    counter_coefficient_max='max',\n",
    "    counter_coefficient_mean='mean',\n",
    "    counter_coefficient_std='std',\n",
    "   # counter_coefficient_remark_mode='mode'\n",
    ").reset_index()"
   ]
  },
  {
   "cell_type": "code",
   "execution_count": 37,
   "metadata": {
    "tags": []
   },
   "outputs": [],
   "source": [
    "# Aggregate counter_code by client_id\n",
    "aggregated_counter_code = invoice.groupby('client_id')['counter_code'].agg(\n",
    "    counter_code_min='min',\n",
    "    counter_code_max='max',\n",
    "    counter_code_mean='mean',\n",
    "    counter_code_std='std',\n",
    "   # counter_coefficient_remark_mode='mode'\n",
    ").reset_index()"
   ]
  },
  {
   "cell_type": "code",
   "execution_count": 38,
   "metadata": {
    "tags": []
   },
   "outputs": [],
   "source": [
    "# Create transaction_count feature\n",
    "grouped_counts = invoice.groupby('client_id').size().reset_index(name='transaction_count')"
   ]
  },
  {
   "cell_type": "code",
   "execution_count": 39,
   "metadata": {
    "tags": []
   },
   "outputs": [],
   "source": [
    "# Sort invoice DataFrame by 'client_id', 'counter_type', and 'invoice_date'\n",
    "invoice_sorted = invoice.sort_values(['client_id', 'counter_type', 'invoice_date'])\n",
    "\n",
    "# Calculate the difference in days between invoice dates within each group of 'client_id' and 'counter_type'\n",
    "invoice_sorted['invoice_delta_time'] = invoice_sorted.groupby(['client_id', 'counter_type'])['invoice_date'].diff().dt.days\n",
    "\n",
    "# Create a new DataFrame focusing on the columns of interest\n",
    "date_eda = invoice_sorted[['client_id', 'counter_type', 'invoice_date', 'invoice_delta_time']].copy()\n",
    "\n",
    "# Sort this new DataFrame by 'client_id', 'counter_type', and 'invoice_date'\n",
    "date_eda_sorted = date_eda.sort_values(['client_id', 'counter_type', 'invoice_date'])"
   ]
  },
  {
   "cell_type": "code",
   "execution_count": 40,
   "metadata": {
    "tags": []
   },
   "outputs": [],
   "source": [
    "# Sort invoice DataFrame by 'client_id' and 'invoice_date'\n",
    "invoice_sorted = invoice.sort_values(['client_id', 'invoice_date'])\n",
    "\n",
    "# Calculate the difference in days between invoice dates within each group of 'client_id' and 'counter_type'\n",
    "invoice_sorted['invoice_delta_time'] = invoice_sorted.groupby(['client_id'])['invoice_date'].diff().dt.days\n",
    "\n",
    "# Create a new DataFrame focusing on the columns of interest\n",
    "date_eda = invoice_sorted[['client_id', 'invoice_date', 'invoice_delta_time']].copy()\n",
    "\n",
    "# Sort this new DataFrame by 'client_id', 'counter_type', and 'invoice_date'\n",
    "date_eda_sorted = date_eda.sort_values(['client_id', 'invoice_date'])"
   ]
  },
  {
   "cell_type": "code",
   "execution_count": 41,
   "metadata": {
    "tags": []
   },
   "outputs": [],
   "source": [
    "# Group by 'client_id' and then calculate the aggregate statistics for 'invoice_delta_time'\n",
    "aggregated_ener_date_stats = date_eda_sorted.groupby(['client_id'])['invoice_delta_time'].agg(\n",
    "    ener_min_invoice_delta='min',\n",
    "    ener_max_invoice_delta='max',\n",
    "    ener_mean_invoice_delta='mean',\n",
    "    #elec_median_invoice_delta='median',\n",
    "    ener_std_invoice_delta='std'\n",
    ").reset_index()"
   ]
  },
  {
   "cell_type": "code",
   "execution_count": 42,
   "metadata": {
    "tags": []
   },
   "outputs": [],
   "source": [
    "# List of columns you want to include in the new DataFrame\n",
    "columns_to_include = ['client_id', 'client_catg', 'region', 'creation_date', 'target']\n",
    "\n",
    "# Create a new DataFrame with the specified columns\n",
    "model_df = client[columns_to_include].copy()"
   ]
  },
  {
   "cell_type": "code",
   "execution_count": 43,
   "metadata": {
    "tags": []
   },
   "outputs": [],
   "source": [
    "# Create the whole dataframe\n",
    "model_df = model_df.merge(aggregated_counter_status[['client_id',\n",
    "                                                     'counter_status_min',\n",
    "                                                     'counter_status_max',\n",
    "                                                     'counter_status_mean',\n",
    "                                                     'counter_status_std']], on='client_id', how='left')\n",
    "\n",
    "model_df = model_df.merge(aggregated_agent_remark[['client_id',\n",
    "                                                   'agent_remark_min',\n",
    "                                                   'agent_remark_max',\n",
    "                                                   'agent_remark_mean',\n",
    "                                                   'agent_remark_std']], on='client_id', how='left')\n",
    "\n",
    "model_df = model_df.merge(aggregated_counter_coefficient[['client_id',\n",
    "                                                          'counter_coefficient_min',\n",
    "                                                          'counter_coefficient_max',\n",
    "                                                          'counter_coefficient_mean',\n",
    "                                                          'counter_coefficient_std']], on='client_id', how='left')\n",
    "\n",
    "model_df = model_df.merge(aggregated_counter_code[['client_id',\n",
    "                                                          'counter_code_min',\n",
    "                                                          'counter_code_max',\n",
    "                                                          'counter_code_mean',\n",
    "                                                          'counter_code_std']], on='client_id', how='left')\n",
    "\n",
    "model_df = model_df.merge(grouped_counts[['client_id','transaction_count']], on='client_id', how='left')"
   ]
  },
  {
   "cell_type": "code",
   "execution_count": 44,
   "metadata": {
    "tags": []
   },
   "outputs": [],
   "source": [
    "model_df = model_df.merge(aggregated_consumption_ener[['client_id',\n",
    "                                                       'ener_total_consumption',\n",
    "                                                       'ener_min_consumption',\n",
    "                                                       'ener_max_consumption',\n",
    "                                                       'ener_mean_consumption',\n",
    "                                                       'ener_std_consumption']], on='client_id', how='left')\n",
    "\n",
    "model_df = model_df.merge(aggregated_ener_date_stats[['client_id',\n",
    "                                                      'ener_min_invoice_delta',\n",
    "                                                      'ener_max_invoice_delta',\n",
    "                                                      'ener_mean_invoice_delta',\n",
    "                                                      'ener_std_invoice_delta']], on='client_id', how='left')\n",
    "\n",
    "model_df = model_df.merge(aggregated_consumption_ener_1[['client_id', \n",
    "                                                         'cons1_total', \n",
    "                                                         'cons1_min', \n",
    "                                                         'cons1_max', \n",
    "                                                         'cons1_mean', \n",
    "                                                         'cons1_std', \n",
    "                                                         'cons1_range']], on='client_id', how='left')\n",
    "\n",
    "\n",
    "model_df = model_df.merge(aggregated_consumption_ener_2[['client_id', \n",
    "                                                         'cons2_total', \n",
    "                                                         'cons2_min', \n",
    "                                                         'cons2_max', \n",
    "                                                         'cons2_mean', \n",
    "                                                         'cons2_std', \n",
    "                                                         'cons2_range']], on='client_id', how='left')\n",
    "\n",
    "\n",
    "model_df = model_df.merge(aggregated_consumption_ener_3[['client_id', \n",
    "                                                         'cons3_total', \n",
    "                                                         'cons3_min', \n",
    "                                                         'cons3_max', \n",
    "                                                         'cons3_mean', \n",
    "                                                         'cons3_std', \n",
    "                                                         'cons3_range']], on='client_id', how='left')\n",
    "\n",
    "\n",
    "model_df = model_df.merge(aggregated_consumption_ener_4[['client_id', \n",
    "                                                         'cons4_total', \n",
    "                                                         'cons4_min', \n",
    "                                                         'cons4_max', \n",
    "                                                         'cons4_mean', \n",
    "                                                         'cons4_std', \n",
    "                                                         'cons4_range']], on='client_id', how='left')"
   ]
  },
  {
   "cell_type": "code",
   "execution_count": 45,
   "metadata": {
    "tags": []
   },
   "outputs": [],
   "source": [
    "# Compute contract duration\n",
    "model_df['coop_time'] = (2019 - model_df['creation_date'].dt.year)*12 - model_df['creation_date'].dt.month"
   ]
  },
  {
   "cell_type": "code",
   "execution_count": 46,
   "metadata": {
    "tags": []
   },
   "outputs": [],
   "source": [
    "# Compute invoice per cooperation\n",
    "model_df['invoice_per_cooperation'] = model_df['transaction_count'] / model_df['coop_time']\n",
    "model_df['invoice_per_cooperation'].replace([np.inf, -np.inf], 0, inplace=True)"
   ]
  },
  {
   "cell_type": "code",
   "execution_count": 47,
   "metadata": {
    "tags": []
   },
   "outputs": [],
   "source": [
    "# Convert numerical features of type int64 to int32\n",
    "for column in model_df.columns:\n",
    "    if model_df[column].dtype == 'int64':\n",
    "        model_df[column] = model_df[column].astype('int32')"
   ]
  },
  {
   "cell_type": "markdown",
   "metadata": {},
   "source": [
    "# Machine-Learning Modeling \n",
    "<a id='machine-learning'><a>"
   ]
  },
  {
   "cell_type": "code",
   "execution_count": 48,
   "metadata": {
    "tags": []
   },
   "outputs": [],
   "source": [
    "# Drop redundant columns\n",
    "model_df_copy = model_df.copy()\n",
    "drop_columns = ['client_id', 'creation_date']\n",
    "\n",
    "for col in drop_columns:\n",
    "    if col in model_df_copy.columns:\n",
    "        model_df_copy.drop([col], axis=1, inplace=True)"
   ]
  },
  {
   "cell_type": "code",
   "execution_count": 49,
   "metadata": {
    "tags": []
   },
   "outputs": [
    {
     "name": "stdout",
     "output_type": "stream",
     "text": [
      "<class 'pandas.core.frame.DataFrame'>\n",
      "RangeIndex: 135493 entries, 0 to 135492\n",
      "Data columns (total 55 columns):\n",
      " #   Column                    Non-Null Count   Dtype   \n",
      "---  ------                    --------------   -----   \n",
      " 0   client_catg               135493 non-null  int32   \n",
      " 1   region                    135493 non-null  category\n",
      " 2   target                    135493 non-null  int32   \n",
      " 3   counter_status_min        135493 non-null  int32   \n",
      " 4   counter_status_max        135493 non-null  int32   \n",
      " 5   counter_status_mean       135493 non-null  float64 \n",
      " 6   counter_status_std        131281 non-null  float64 \n",
      " 7   agent_remark_min          135493 non-null  int32   \n",
      " 8   agent_remark_max          135493 non-null  int32   \n",
      " 9   agent_remark_mean         135493 non-null  float64 \n",
      " 10  agent_remark_std          131281 non-null  float64 \n",
      " 11  counter_coefficient_min   135493 non-null  int32   \n",
      " 12  counter_coefficient_max   135493 non-null  int32   \n",
      " 13  counter_coefficient_mean  135493 non-null  float64 \n",
      " 14  counter_coefficient_std   131281 non-null  float64 \n",
      " 15  counter_code_min          135493 non-null  int32   \n",
      " 16  counter_code_max          135493 non-null  int32   \n",
      " 17  counter_code_mean         135493 non-null  float64 \n",
      " 18  counter_code_std          131281 non-null  float64 \n",
      " 19  transaction_count         135493 non-null  int32   \n",
      " 20  ener_total_consumption    135493 non-null  int32   \n",
      " 21  ener_min_consumption      135493 non-null  int32   \n",
      " 22  ener_max_consumption      135493 non-null  int32   \n",
      " 23  ener_mean_consumption     135493 non-null  float64 \n",
      " 24  ener_std_consumption      131281 non-null  float64 \n",
      " 25  ener_min_invoice_delta    131281 non-null  float64 \n",
      " 26  ener_max_invoice_delta    131281 non-null  float64 \n",
      " 27  ener_mean_invoice_delta   131281 non-null  float64 \n",
      " 28  ener_std_invoice_delta    125906 non-null  float64 \n",
      " 29  cons1_total               135493 non-null  int32   \n",
      " 30  cons1_min                 135493 non-null  int32   \n",
      " 31  cons1_max                 135493 non-null  int32   \n",
      " 32  cons1_mean                135493 non-null  float64 \n",
      " 33  cons1_std                 131281 non-null  float64 \n",
      " 34  cons1_range               135493 non-null  int32   \n",
      " 35  cons2_total               135493 non-null  int32   \n",
      " 36  cons2_min                 135493 non-null  int32   \n",
      " 37  cons2_max                 135493 non-null  int32   \n",
      " 38  cons2_mean                135493 non-null  float64 \n",
      " 39  cons2_std                 131281 non-null  float64 \n",
      " 40  cons2_range               135493 non-null  int32   \n",
      " 41  cons3_total               135493 non-null  int32   \n",
      " 42  cons3_min                 135493 non-null  int32   \n",
      " 43  cons3_max                 135493 non-null  int32   \n",
      " 44  cons3_mean                135493 non-null  float64 \n",
      " 45  cons3_std                 131281 non-null  float64 \n",
      " 46  cons3_range               135493 non-null  int32   \n",
      " 47  cons4_total               135493 non-null  int32   \n",
      " 48  cons4_min                 135493 non-null  int32   \n",
      " 49  cons4_max                 135493 non-null  int32   \n",
      " 50  cons4_mean                135493 non-null  float64 \n",
      " 51  cons4_std                 131281 non-null  float64 \n",
      " 52  cons4_range               135493 non-null  int32   \n",
      " 53  coop_time                 135493 non-null  int32   \n",
      " 54  invoice_per_cooperation   135493 non-null  float64 \n",
      "dtypes: category(1), float64(23), int32(31)\n",
      "memory usage: 39.9 MB\n"
     ]
    }
   ],
   "source": [
    "# Print the list of final features and their types\n",
    "model_df_copy.info()"
   ]
  },
  {
   "cell_type": "markdown",
   "metadata": {
    "tags": []
   },
   "source": [
    "## Train - Test Split "
   ]
  },
  {
   "cell_type": "code",
   "execution_count": 50,
   "metadata": {
    "tags": []
   },
   "outputs": [
    {
     "data": {
      "text/plain": [
       "((108394, 54), (27099, 54))"
      ]
     },
     "execution_count": 50,
     "metadata": {},
     "output_type": "execute_result"
    }
   ],
   "source": [
    "y = model_df_copy['target']\n",
    "X = model_df_copy.drop('target', axis=1)\n",
    "\n",
    "X_train, X_test, y_train, y_test = train_test_split(X, y, test_size=0.2, random_state=42, stratify=y)\n",
    "X_train.shape, X_test.shape"
   ]
  },
  {
   "cell_type": "markdown",
   "metadata": {},
   "source": [
    "## Logistic Regressor (Baseline)"
   ]
  },
  {
   "cell_type": "code",
   "execution_count": 51,
   "metadata": {
    "tags": []
   },
   "outputs": [
    {
     "name": "stdout",
     "output_type": "stream",
     "text": [
      "Accuracy on training set: 0.86\n",
      "Accuracy on test set: 0.86\n",
      "----------------------------------------\n",
      "Recall on training set: 0.36\n",
      "Recall on test set: 0.36\n",
      "----------------------------------------\n",
      "Precision on training set: 0.16\n",
      "Precision on test set: 0.17\n",
      "----------------------------------------\n",
      "fbeta_score on training set: 0.22\n",
      "fbeta_score on test set: 0.23\n",
      "----------------------------------------\n",
      "roc_auc_score on training set:  0.75\n",
      "roc_auc_score on test set:  0.75\n",
      "----------------------------------------\n"
     ]
    }
   ],
   "source": [
    "# Separate features by type\n",
    "num_features = X_train.select_dtypes(include=['int32', 'float64']).columns\n",
    "cat_features = X_train.select_dtypes(include=['object', 'category']).columns\n",
    "\n",
    "# Preprocessing for numerical data\n",
    "num_transformer = Pipeline(steps=[\n",
    "    ('imputer', SimpleImputer(strategy='constant', fill_value=0)),\n",
    "    ('scale', StandardScaler())\n",
    "])\n",
    "\n",
    "# Preprocessing for categorical data\n",
    "cat_transformer = Pipeline(steps=[\n",
    "    ('imputer', SimpleImputer(strategy='constant', fill_value=0)),\n",
    "    ('onehot', OneHotEncoder(drop='first'))\n",
    "])\n",
    "\n",
    "# Apply preprocessing to num and categorical features\n",
    "preprocessor = ColumnTransformer(\n",
    "    transformers=[\n",
    "        ('num', num_transformer, num_features),\n",
    "        ('cat', cat_transformer, cat_features)\n",
    "    ],\n",
    "    remainder='passthrough')\n",
    "\n",
    "model_lg = ImbPipeline([\n",
    "    ('prep', preprocessor),\n",
    "    ('undersample', RandomUnderSampler(sampling_strategy=0.5)),\n",
    "    ('lg', LogisticRegression())\n",
    "]) \n",
    "\n",
    "model_lg.fit(X_train, y_train)\n",
    "\n",
    "predict_and_print_scores(model_lg, X_train, y_train, X_test, y_test, matrix=False)"
   ]
  },
  {
   "cell_type": "markdown",
   "metadata": {},
   "source": [
    "## XGBoost Classifier with Full Grid Search"
   ]
  },
  {
   "cell_type": "code",
   "execution_count": 52,
   "metadata": {
    "tags": []
   },
   "outputs": [],
   "source": [
    "# Build the pipeline and train\n",
    "\n",
    "#xgb_pipe = ImbPipeline([\n",
    "#    ('prep', preprocessor),\n",
    "#    ('undersample', RandomUnderSampler(sampling_strategy=0.5)),\n",
    "#    ('xgb', XGBClassifier(use_label_encoder=False, eval_metric='logloss'))\n",
    "#])\n",
    "\n",
    "#hyperparameters = {\n",
    "#    'xgb__learning_rate': [0.001, 0.01, 0.1, 0.5, 1],\n",
    "#    'xgb__n_estimators': [100, 200, 500, 600],\n",
    "#    'xgb__max_depth': [3, 5, 7, 10, 15, 20, 25],\n",
    "#    'xgb__subsample': [0.5, 0.7, 1.0],\n",
    "#    'xgb__colsample_bytree': [0.5, 0.7, 1.0]\n",
    "#}\n",
    "\n",
    "#model_xgb, params_xgb, _, _ = train_crossval_predict_score(\n",
    "#    xgb_pipe,\n",
    "#    hyperparameters,\n",
    "#    X_train,\n",
    "#    y_train,\n",
    "#    X_test,\n",
    "#    y_test,\n",
    "#    cv=5,\n",
    "#    scoring='f1',\n",
    "#    verbose=0,\n",
    "#    n_jobs=-1,\n",
    "#    cross_val='full',\n",
    "#    random_state=None,\n",
    "#    training=True,\n",
    "#    test=True,\n",
    "#    accuracy=True,\n",
    "#    recall=True,\n",
    "#    precision=True,\n",
    "#    fbeta=[True, 1.0],\n",
    "#    roc_auc=True,\n",
    "#    matrix=True,\n",
    "#    figsize=(3,2),\n",
    "#    cmap='YlGn')"
   ]
  },
  {
   "cell_type": "markdown",
   "metadata": {
    "tags": []
   },
   "source": [
    "Full Grid search:\n",
    "Best params: {'xgb__colsample_bytree': 1.0, 'xgb__learning_rate': 0.01, 'xgb__max_depth': 7, 'xgb__n_estimators': 600, 'xgb__subsample': 0.7}"
   ]
  },
  {
   "cell_type": "code",
   "execution_count": 53,
   "metadata": {
    "tags": []
   },
   "outputs": [
    {
     "name": "stdout",
     "output_type": "stream",
     "text": [
      "Accuracy on training set: 0.87\n",
      "Accuracy on test set: 0.86\n",
      "----------------------------------------\n",
      "Recall on training set: 0.65\n",
      "Recall on test set: 0.52\n",
      "----------------------------------------\n",
      "Precision on training set: 0.24\n",
      "Precision on test set: 0.2\n",
      "----------------------------------------\n",
      "fbeta_score on training set: 0.36\n",
      "fbeta_score on test set: 0.28\n",
      "----------------------------------------\n",
      "roc_auc_score on training set:  0.88\n",
      "roc_auc_score on test set:  0.81\n",
      "----------------------------------------\n"
     ]
    }
   ],
   "source": [
    "# Separate features by type\n",
    "num_features = X_train.select_dtypes(include=['int32', 'float64']).columns\n",
    "cat_features = X_train.select_dtypes(include=['object', 'category']).columns\n",
    "\n",
    "# Preprocessing for numerical data\n",
    "num_transformer = Pipeline(steps=[\n",
    "    ('imputer', SimpleImputer(strategy='constant', fill_value=0))\n",
    "])\n",
    "\n",
    "# Preprocessing for categorical data\n",
    "cat_transformer = Pipeline(steps=[\n",
    "    ('imputer', SimpleImputer(strategy='constant', fill_value=0)),\n",
    "])\n",
    "\n",
    "# Apply preprocessing to num and categorical features\n",
    "preprocessor = ColumnTransformer(\n",
    "    transformers=[\n",
    "        ('num', num_transformer, num_features),\n",
    "        ('cat', cat_transformer, cat_features)\n",
    "    ],\n",
    "    remainder='passthrough')\n",
    "\n",
    "model_xgb = ImbPipeline([\n",
    "    ('prep', preprocessor),\n",
    "    ('undersample', RandomUnderSampler(sampling_strategy=0.5)),\n",
    "    ('best_xgb', XGBClassifier(n_estimators=600, max_depth=7, learning_rate=0.01, colsample_bytree=1.0, subsample=0.7, use_label_encoder=False))\n",
    "])\n",
    "\n",
    "# Fit model\n",
    "model_xgb.fit(X_train, y_train)\n",
    "\n",
    "# Predict and score\n",
    "predict_and_print_scores(model_xgb, X_train, y_train, X_test, y_test, matrix=False)"
   ]
  },
  {
   "cell_type": "markdown",
   "metadata": {},
   "source": [
    "# Model Evaluation\n",
    "<a id='model-evaluation'><a>"
   ]
  },
  {
   "cell_type": "code",
   "execution_count": 54,
   "metadata": {
    "tags": []
   },
   "outputs": [
    {
     "data": {
      "image/png": "[encoded data removed]",
      "text/plain": [
       "<Figure size 600x500 with 1 Axes>"
      ]
     },
     "metadata": {},
     "output_type": "display_data"
    }
   ],
   "source": [
    "models = {'Logistic Regressor (Baseline)' : [model_lg, 'r-'], 'XGBoost Classifier' : [model_xgb, 'b-']}\n",
    "fig, ax = plot_roc_curves(models, X_test, y_test)"
   ]
  },
  {
   "cell_type": "markdown",
   "metadata": {},
   "source": [
    "As observed, the **XGBoost** classifier outperforms the baseline model, but requires a total of 600 week estimators to make better predictions."
   ]
  },
  {
   "cell_type": "code",
   "execution_count": 55,
   "metadata": {
    "tags": []
   },
   "outputs": [
    {
     "name": "stdout",
     "output_type": "stream",
     "text": [
      "Best threshold: 0.55\n",
      "Best f1 score: 0.29\n"
     ]
    }
   ],
   "source": [
    "# Find the threshold that maximizes f1 for final prediction\n",
    "best_thr, score = find_roc_threshold_f1(model_xgb, X_test, y_test)\n",
    "print(f\"Best threshold: {round(best_thr, 2)}\")\n",
    "print(f\"Best f1 score: {round(score, 2)}\")"
   ]
  },
  {
   "cell_type": "code",
   "execution_count": 56,
   "metadata": {
    "tags": []
   },
   "outputs": [
    {
     "name": "stdout",
     "output_type": "stream",
     "text": [
      "Threshold for a recall of 80%: 0.3100000023841858\n",
      "False positive rate: 0.35\n"
     ]
    }
   ],
   "source": [
    "# Find the false positive rate corresponding to a recall of 80%\n",
    "thr_80, false_pos_rate = find_roc_threshold_tpr(model_xgb, X_test, y_test, 0.8)\n",
    "\n",
    "print(f\"Threshold for a recall of 80%: {round(thr_80, 2)}\")\n",
    "print(f\"False positive rate: {round(false_pos_rate, 2)}\")"
   ]
  },
  {
   "cell_type": "code",
   "execution_count": 57,
   "metadata": {
    "tags": []
   },
   "outputs": [
    {
     "name": "stdout",
     "output_type": "stream",
     "text": [
      "Normalized confusion matrix\n"
     ]
    },
    {
     "data": {
      "image/png": "[encoded data removed]",
      "text/plain": [
       "<Figure size 600x600 with 2 Axes>"
      ]
     },
     "metadata": {},
     "output_type": "display_data"
    }
   ],
   "source": [
    "# Plot confusion matrix on the test set\n",
    "y_test_pred = model_xgb.predict_proba(X_test)[:,1] >= thr_80\n",
    "cm = confusion_matrix(y_test, y_test_pred)\n",
    "plot_confusion_matrix(cm, ['Fraud: NO', 'Fraud: YES'], normalize=True, title='Confusion matrix', cmap=plt.cm.Blues, figsize=(6,6))"
   ]
  },
  {
   "cell_type": "markdown",
   "metadata": {},
   "source": [
    "The XGBoost classifier is able to detect with a **recall rate of 80%** and a **false positive rate of 34%**."
   ]
  },
  {
   "cell_type": "code",
   "execution_count": 58,
   "metadata": {
    "tags": []
   },
   "outputs": [
    {
     "name": "stdout",
     "output_type": "stream",
     "text": [
      "Feature: transaction_count, Importance: 8.82%\n",
      "Feature: cons3_std, Importance: 6.03%\n",
      "Feature: cons4_max, Importance: 5.13%\n",
      "Feature: cons4_mean, Importance: 4.26%\n",
      "Feature: cons2_std, Importance: 3.19%\n",
      "Feature: cons4_std, Importance: 3.07%\n",
      "Feature: cons3_min, Importance: 2.84%\n",
      "Feature: cons3_range, Importance: 2.78%\n",
      "Feature: counter_status_min, Importance: 2.56%\n",
      "Feature: ener_total_consumption, Importance: 2.55%\n",
      "Feature: counter_code_mean, Importance: 2.44%\n",
      "Feature: ener_std_invoice_delta, Importance: 2.42%\n",
      "Feature: counter_code_std, Importance: 2.35%\n",
      "Feature: invoice_per_cooperation, Importance: 2.14%\n",
      "Feature: counter_code_max, Importance: 1.98%\n",
      "Feature: counter_code_min, Importance: 1.96%\n",
      "Feature: cons3_mean, Importance: 1.9%\n",
      "Feature: cons4_min, Importance: 1.88%\n",
      "Feature: cons2_range, Importance: 1.86%\n",
      "Feature: counter_coefficient_std, Importance: 1.75%\n",
      "Feature: cons1_max, Importance: 1.72%\n",
      "Feature: ener_min_invoice_delta, Importance: 1.63%\n",
      "Feature: agent_remark_max, Importance: 1.6%\n",
      "Feature: cons1_std, Importance: 1.6%\n",
      "Feature: counter_status_mean, Importance: 1.57%\n",
      "Feature: cons1_range, Importance: 1.56%\n",
      "Feature: cons3_max, Importance: 1.53%\n",
      "Feature: cons2_max, Importance: 1.51%\n",
      "Feature: coop_time, Importance: 1.51%\n",
      "Feature: cons4_range, Importance: 1.51%\n",
      "Feature: cons2_min, Importance: 1.51%\n",
      "Feature: cons1_total, Importance: 1.51%\n",
      "Feature: cons2_mean, Importance: 1.51%\n",
      "Feature: client_catg, Importance: 1.41%\n",
      "Feature: agent_remark_mean, Importance: 1.34%\n",
      "Feature: ener_max_consumption, Importance: 1.33%\n",
      "Feature: ener_std_consumption, Importance: 1.32%\n",
      "Feature: ener_mean_consumption, Importance: 1.26%\n",
      "Feature: cons1_mean, Importance: 1.23%\n",
      "Feature: ener_min_consumption, Importance: 1.2%\n",
      "Feature: counter_status_max, Importance: 1.19%\n",
      "Feature: cons1_min, Importance: 1.17%\n",
      "Feature: ener_max_invoice_delta, Importance: 1.16%\n",
      "Feature: ener_mean_invoice_delta, Importance: 1.12%\n",
      "Feature: agent_remark_min, Importance: 1.09%\n",
      "Feature: counter_status_std, Importance: 0.75%\n",
      "Feature: cons3_total, Importance: 0.69%\n",
      "Feature: cons2_total, Importance: 0.64%\n",
      "Feature: cons4_total, Importance: 0.57%\n",
      "Feature: region, Importance: 0.36%\n",
      "Feature: agent_remark_std, Importance: 0.0%\n",
      "Feature: counter_coefficient_min, Importance: 0.0%\n",
      "Feature: counter_coefficient_max, Importance: 0.0%\n",
      "Feature: counter_coefficient_mean, Importance: 0.0%\n"
     ]
    }
   ],
   "source": [
    "# Find out the most relevant features\n",
    "\n",
    "# Get the XGB Classifier step from the pipeline\n",
    "xgb_step = model_xgb.named_steps['best_xgb']\n",
    "\n",
    "# Access feature importance\n",
    "feature_importance = xgb_step.feature_importances_\n",
    "feature_names = X_train.columns\n",
    "\n",
    "# Combine feature names and their importance into a dictionary, then sort by importance\n",
    "importance_dict = dict(zip(feature_names, feature_importance))\n",
    "sorted_importance = sorted(importance_dict.items(), key=lambda x: x[1], reverse=True)\n",
    "\n",
    "# Displaying feature importance\n",
    "for feature, importance in sorted_importance:\n",
    "    print(f\"Feature: {feature}, Importance: {round(100 * importance, 2)}%\")"
   ]
  },
  {
   "cell_type": "markdown",
   "metadata": {},
   "source": [
    "As observed, the partial and total consumption levels, the number of invoices, the counter information (coefficient, code, status), as well as the agent remarks seem to be the most relevant features to detect fraud."
   ]
  },
  {
   "cell_type": "markdown",
   "metadata": {
    "tags": []
   },
   "source": [
    "# Conclusions\n",
    "<a id='conclusions'><a>"
   ]
  },
  {
   "cell_type": "markdown",
   "metadata": {},
   "source": [
    "The detection of fraudulent cases with a moderate degree of accuracy has required a lot of feature engineering, since the features in the dataset were not good enough to be able to detect such cases. The target output was also imbalanced which also affected the overall results.\n",
    "\n",
    "In general, boosting methods provided, for this type of problems where data quality is not good, better results than other approaches such as Random Forest. Microsoft's LGBMBoost and AdaBoost (not included in the notebook for the sake of simplicity) resulted in slightly lower performance than XGBoost."
   ]
  }
 ],
 "metadata": {
  "colab": {
   "provenance": []
  },
  "kernelspec": {
   "display_name": "Python 3 (ipykernel)",
   "language": "python",
   "name": "python3"
  },
  "language_info": {
   "codemirror_mode": {
    "name": "ipython",
    "version": 3
   },
   "file_extension": ".py",
   "mimetype": "text/x-python",
   "name": "python",
   "nbconvert_exporter": "python",
   "pygments_lexer": "ipython3",
   "version": "3.11.3"
  }
 },
 "nbformat": 4,
 "nbformat_minor": 4
}
